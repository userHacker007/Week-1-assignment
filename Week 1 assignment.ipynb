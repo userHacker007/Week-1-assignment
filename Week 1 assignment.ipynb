{
 "cells": [
  {
   "cell_type": "code",
   "execution_count": null,
   "id": "9298a1f9-6718-4db8-82f0-cf8861ee6c20",
   "metadata": {},
   "outputs": [],
   "source": [
    "#Q1. Create one variable containing following type of data:"
   ]
  },
  {
   "cell_type": "code",
   "execution_count": null,
   "id": "eaed4be9-cb58-4a08-b7e1-744578e73ce8",
   "metadata": {},
   "outputs": [],
   "source": [
    "#1"
   ]
  },
  {
   "cell_type": "code",
   "execution_count": 1,
   "id": "0b40ad34-d363-46a6-ae50-79083135da22",
   "metadata": {},
   "outputs": [],
   "source": [
    "a=\"PW\""
   ]
  },
  {
   "cell_type": "code",
   "execution_count": null,
   "id": "678dadf6-d206-4718-843c-2e80b7d5cfe0",
   "metadata": {},
   "outputs": [],
   "source": [
    "#2"
   ]
  },
  {
   "cell_type": "code",
   "execution_count": null,
   "id": "1cc003d2-d45a-4426-8519-22ca185816af",
   "metadata": {},
   "outputs": [],
   "source": [
    "b=[\"PW\",67,8.5,True]"
   ]
  },
  {
   "cell_type": "code",
   "execution_count": null,
   "id": "458f7211-bf25-4d6e-87a1-ac4f282eac6a",
   "metadata": {},
   "outputs": [],
   "source": [
    "#3"
   ]
  },
  {
   "cell_type": "code",
   "execution_count": null,
   "id": "84eed7d6-60a9-45fb-9126-02e45e42759f",
   "metadata": {},
   "outputs": [],
   "source": [
    "c=3.0"
   ]
  },
  {
   "cell_type": "code",
   "execution_count": null,
   "id": "1fe7a799-890d-4557-813a-23ddb797bf44",
   "metadata": {},
   "outputs": [],
   "source": [
    "#4"
   ]
  },
  {
   "cell_type": "code",
   "execution_count": null,
   "id": "fce7cacf-2cba-41a7-ad80-eee17dd4ce5c",
   "metadata": {},
   "outputs": [],
   "source": [
    "d=(\"PW\",4,6.3,True)"
   ]
  },
  {
   "cell_type": "code",
   "execution_count": null,
   "id": "a0b7f519-93a0-45a6-9688-89428fd8670d",
   "metadata": {},
   "outputs": [],
   "source": [
    "#Q2. Given are some following variables containing data:"
   ]
  },
  {
   "cell_type": "code",
   "execution_count": null,
   "id": "66e2f438-9773-4a23-a803-6a35249901d3",
   "metadata": {},
   "outputs": [],
   "source": [
    "#1"
   ]
  },
  {
   "cell_type": "code",
   "execution_count": 2,
   "id": "9ac6526a-c9ba-487d-838f-66488f36e433",
   "metadata": {},
   "outputs": [],
   "source": [
    "var1=''"
   ]
  },
  {
   "cell_type": "code",
   "execution_count": 3,
   "id": "e4bfe1a6-2aa2-4de1-84c2-d24b6d4319ef",
   "metadata": {},
   "outputs": [
    {
     "data": {
      "text/plain": [
       "str"
      ]
     },
     "execution_count": 3,
     "metadata": {},
     "output_type": "execute_result"
    }
   ],
   "source": [
    "type(var1)"
   ]
  },
  {
   "cell_type": "code",
   "execution_count": 4,
   "id": "2b2f6e2b-e5e2-4c17-ad0f-ce58de094605",
   "metadata": {},
   "outputs": [],
   "source": [
    "#2"
   ]
  },
  {
   "cell_type": "code",
   "execution_count": 6,
   "id": "a12fa6ae-db78-4f52-a19d-48b1d28ca755",
   "metadata": {},
   "outputs": [],
   "source": [
    "var2='[ DS , ML , Python]'"
   ]
  },
  {
   "cell_type": "code",
   "execution_count": 7,
   "id": "82d7ace6-0e6b-4e5a-b361-cc3f47c75de0",
   "metadata": {},
   "outputs": [
    {
     "data": {
      "text/plain": [
       "str"
      ]
     },
     "execution_count": 7,
     "metadata": {},
     "output_type": "execute_result"
    }
   ],
   "source": [
    "type(var2)"
   ]
  },
  {
   "cell_type": "code",
   "execution_count": null,
   "id": "c1264b30-56f5-4178-9f94-3027ed02e1e7",
   "metadata": {},
   "outputs": [],
   "source": [
    "#3"
   ]
  },
  {
   "cell_type": "code",
   "execution_count": 8,
   "id": "cf71bcb5-406b-4a76-9d18-4587365115d0",
   "metadata": {},
   "outputs": [],
   "source": [
    "var3 = [ 'DS' , 'ML' , 'Python' ]"
   ]
  },
  {
   "cell_type": "code",
   "execution_count": 9,
   "id": "81a9a7e3-04b4-480c-a36b-425d17e86ae8",
   "metadata": {},
   "outputs": [
    {
     "data": {
      "text/plain": [
       "list"
      ]
     },
     "execution_count": 9,
     "metadata": {},
     "output_type": "execute_result"
    }
   ],
   "source": [
    "type(var3)"
   ]
  },
  {
   "cell_type": "code",
   "execution_count": null,
   "id": "13f7cd90-8066-4e08-9bc1-1f06b5590368",
   "metadata": {},
   "outputs": [],
   "source": [
    "#4"
   ]
  },
  {
   "cell_type": "code",
   "execution_count": 10,
   "id": "1d779516-1f36-4e95-a0a6-857e6d5c77a5",
   "metadata": {},
   "outputs": [],
   "source": [
    "var4 = 1."
   ]
  },
  {
   "cell_type": "code",
   "execution_count": 11,
   "id": "85d4ee3c-2b20-454a-9db5-54b3916afc56",
   "metadata": {},
   "outputs": [
    {
     "data": {
      "text/plain": [
       "float"
      ]
     },
     "execution_count": 11,
     "metadata": {},
     "output_type": "execute_result"
    }
   ],
   "source": [
    "type(var4)"
   ]
  },
  {
   "cell_type": "code",
   "execution_count": 12,
   "id": "48946ee1-9541-46af-9dcb-be337ee384c8",
   "metadata": {},
   "outputs": [],
   "source": [
    "#Q3. Explain the use of the following operators using an example:"
   ]
  },
  {
   "cell_type": "code",
   "execution_count": 13,
   "id": "bbc84760-7183-4691-a24d-b02ae4e6b71c",
   "metadata": {},
   "outputs": [],
   "source": [
    "#1"
   ]
  },
  {
   "cell_type": "code",
   "execution_count": 15,
   "id": "914c04fd-3b7a-42f5-a730-ff120ff0cb63",
   "metadata": {},
   "outputs": [
    {
     "data": {
      "text/plain": [
       "2.0"
      ]
     },
     "execution_count": 15,
     "metadata": {},
     "output_type": "execute_result"
    }
   ],
   "source": [
    "8/4"
   ]
  },
  {
   "cell_type": "code",
   "execution_count": 16,
   "id": "3af33265-ee12-4081-82e0-af64ba1ef77f",
   "metadata": {},
   "outputs": [],
   "source": [
    "#2"
   ]
  },
  {
   "cell_type": "code",
   "execution_count": 17,
   "id": "3f9c3801-24dc-4b14-88da-b9ea43be1d01",
   "metadata": {},
   "outputs": [
    {
     "data": {
      "text/plain": [
       "1"
      ]
     },
     "execution_count": 17,
     "metadata": {},
     "output_type": "execute_result"
    }
   ],
   "source": [
    "9%2"
   ]
  },
  {
   "cell_type": "code",
   "execution_count": 18,
   "id": "a21cf8d7-c0f6-46d6-b094-2d724f8023c7",
   "metadata": {},
   "outputs": [],
   "source": [
    "#3"
   ]
  },
  {
   "cell_type": "code",
   "execution_count": 19,
   "id": "2f6cacce-a975-45bd-8fe7-cea917d56ef0",
   "metadata": {},
   "outputs": [
    {
     "data": {
      "text/plain": [
       "4"
      ]
     },
     "execution_count": 19,
     "metadata": {},
     "output_type": "execute_result"
    }
   ],
   "source": [
    "9//2"
   ]
  },
  {
   "cell_type": "code",
   "execution_count": 20,
   "id": "5bcdee86-c183-4787-a87b-cd08564e67d3",
   "metadata": {},
   "outputs": [],
   "source": [
    "#4"
   ]
  },
  {
   "cell_type": "code",
   "execution_count": 21,
   "id": "e32944dd-9b7a-4e1c-ad8c-751f74131395",
   "metadata": {},
   "outputs": [
    {
     "data": {
      "text/plain": [
       "8"
      ]
     },
     "execution_count": 21,
     "metadata": {},
     "output_type": "execute_result"
    }
   ],
   "source": [
    "2**3"
   ]
  },
  {
   "cell_type": "code",
   "execution_count": null,
   "id": "8d99b59b-7f2d-42a2-85f2-b197f0426ad9",
   "metadata": {},
   "outputs": [],
   "source": [
    "#Q4. Create a list of length 10 of your choice containing multiple types of data. Using for loop print the element and its data type."
   ]
  },
  {
   "cell_type": "code",
   "execution_count": 22,
   "id": "025e1c9a-5af4-4e5e-8831-d3f4e2c534d0",
   "metadata": {},
   "outputs": [
    {
     "name": "stdout",
     "output_type": "stream",
     "text": [
      "Program\n",
      "45\n",
      "56.3\n",
      "True\n",
      "False\n",
      "Flower\n",
      "476\n",
      "67.3\n",
      "False\n",
      "True\n"
     ]
    }
   ],
   "source": [
    "e=[\"Program\",45,56.3,True,False,\"Flower\",476,67.3,False,True]\n",
    "for i in e:\n",
    "    print(i)"
   ]
  },
  {
   "cell_type": "code",
   "execution_count": null,
   "id": "2421f4ec-cac8-47c0-9cfa-06cd7089f06b",
   "metadata": {
    "tags": []
   },
   "outputs": [],
   "source": [
    "#Q5. Using a while loop, verify if the number A is purely divisible by number B and if so then how many times it can be divisible."
   ]
  },
  {
   "cell_type": "code",
   "execution_count": 1,
   "id": "b6c6389c-b282-4a4b-840a-0218773532d9",
   "metadata": {},
   "outputs": [
    {
     "name": "stdout",
     "output_type": "stream",
     "text": [
      "30 is purely divisible by 5 and can be divided 1 time\n"
     ]
    }
   ],
   "source": [
    "def find_divisions(A,B):\n",
    "    count=0\n",
    "    while A%B==0:\n",
    "        A //=B\n",
    "        count+=1\n",
    "    return count\n",
    "A=30\n",
    "B=5\n",
    "result=find_divisions(A,B)\n",
    "print(f\"{A} is purely divisible by {B} and can be divided {result} time\")"
   ]
  },
  {
   "cell_type": "code",
   "execution_count": null,
   "id": "c1b9e589-9e14-42ee-bbb6-fbb6126812dc",
   "metadata": {},
   "outputs": [],
   "source": [
    "#Q6. Create a list containing 25 int type data. Using for loop and if-else condition print if the element is divisible by 3 or not."
   ]
  },
  {
   "cell_type": "code",
   "execution_count": 25,
   "id": "515ef942-dbfd-4026-8de9-2bbbb406a044",
   "metadata": {},
   "outputs": [
    {
     "name": "stdout",
     "output_type": "stream",
     "text": [
      "3 is divisible by 3\n",
      "6 is divisible by 3\n",
      "9 is divisible by 3\n",
      "12 is divisible by 3\n",
      "15 is divisible by 3\n",
      "18 is divisible by 3\n",
      "21 is divisible by 3\n",
      "24 is divisible by 3\n",
      "27 is divisible by 3\n",
      "30 is divisible by 3\n",
      "43 is not divisible by 3\n",
      "765 is divisible by 3\n",
      "32 is not divisible by 3\n",
      "76 is not divisible by 3\n",
      "98 is not divisible by 3\n",
      "56 is not divisible by 3\n",
      "73 is not divisible by 3\n",
      "40 is not divisible by 3\n",
      "69 is divisible by 3\n",
      "26 is not divisible by 3\n",
      "76 is not divisible by 3\n",
      "32 is not divisible by 3\n",
      "63 is divisible by 3\n",
      "95 is not divisible by 3\n",
      "41 is not divisible by 3\n",
      "62 is not divisible by 3\n"
     ]
    }
   ],
   "source": [
    "l=[3,6,9,12,15,18,21,24,27,30,43,765,32,76,98,56,73,40,69,26,76,32,63,95,41,62]\n",
    "for i in l:\n",
    "    if i%3==0:\n",
    "        print(i,\"is divisible by 3\")\n",
    "    else:\n",
    "        print(i,\"is not divisible by 3\")"
   ]
  },
  {
   "cell_type": "code",
   "execution_count": null,
   "id": "9f21b1d6-527e-49d5-8068-c84246dd7dff",
   "metadata": {},
   "outputs": [],
   "source": [
    "#Q7. What do you understand about mutable and immutable data types? Give examples for both showing this property."
   ]
  },
  {
   "cell_type": "code",
   "execution_count": null,
   "id": "1d856146-a3cc-43c1-8993-33d664defa1c",
   "metadata": {},
   "outputs": [],
   "source": [
    "# we can change data as per indexing in mutable data types such as list"
   ]
  },
  {
   "cell_type": "code",
   "execution_count": 1,
   "id": "e47d338b-5a20-4440-aa5f-561cb73d183e",
   "metadata": {},
   "outputs": [],
   "source": [
    "l=[12,\"PW\",30]"
   ]
  },
  {
   "cell_type": "code",
   "execution_count": 2,
   "id": "fdd467ca-8e2f-4d8a-9611-fb4e1a454cfd",
   "metadata": {},
   "outputs": [],
   "source": [
    "l[1]=100"
   ]
  },
  {
   "cell_type": "code",
   "execution_count": 3,
   "id": "82107189-6278-412e-a94f-08f70cd5710b",
   "metadata": {},
   "outputs": [
    {
     "data": {
      "text/plain": [
       "[12, 100, 30]"
      ]
     },
     "execution_count": 3,
     "metadata": {},
     "output_type": "execute_result"
    }
   ],
   "source": [
    "l"
   ]
  },
  {
   "cell_type": "code",
   "execution_count": 4,
   "id": "2a592130-67fd-4c72-8fef-77f4fa0bde7f",
   "metadata": {},
   "outputs": [],
   "source": [
    "#we cannot change data in inmutable data types such as string"
   ]
  },
  {
   "cell_type": "code",
   "execution_count": 5,
   "id": "d4038744-aaff-4f0f-85f1-a63eb2426407",
   "metadata": {},
   "outputs": [],
   "source": [
    "k=[\"PW\"]"
   ]
  },
  {
   "cell_type": "code",
   "execution_count": null,
   "id": "bb47dbac-9aaf-4fc3-ae80-78b55c52b0c2",
   "metadata": {},
   "outputs": [
    {
     "ename": "TypeError",
     "evalue": "'str' object does not support item assignment",
     "output_type": "error",
     "traceback": [
      "\u001b[0;31m---------------------------------------------------------------------------\u001b[0m",
      "\u001b[0;31mTypeError\u001b[0m                                 Traceback (most recent call last)",
      "Cell \u001b[0;32mIn[6], line 1\u001b[0m\n\u001b[0;32m----> 1\u001b[0m \u001b[43mk\u001b[49m\u001b[43m[\u001b[49m\u001b[38;5;241;43m0\u001b[39;49m\u001b[43m]\u001b[49m\u001b[38;5;241m=\u001b[39m\u001b[38;5;124m\"\u001b[39m\u001b[38;5;124mR\u001b[39m\u001b[38;5;124m\"\u001b[39m\n",
      "\u001b[0;31mTypeError\u001b[0m: 'str' object does not support item assignment"
     ]
    }
   ],
   "source": [
    "k[0]=\"R"
   ]
  }
 ],
 "metadata": {
  "kernelspec": {
   "display_name": "Python 3 (ipykernel)",
   "language": "python",
   "name": "python3"
  },
  "language_info": {
   "codemirror_mode": {
    "name": "ipython",
    "version": 3
   },
   "file_extension": ".py",
   "mimetype": "text/x-python",
   "name": "python",
   "nbconvert_exporter": "python",
   "pygments_lexer": "ipython3",
   "version": "3.10.8"
  }
 },
 "nbformat": 4,
 "nbformat_minor": 5
}
